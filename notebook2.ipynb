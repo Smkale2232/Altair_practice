{
 "cells": [
  {
   "cell_type": "code",
   "execution_count": null,
   "metadata": {},
   "outputs": [],
   "source": [
    "# Importing altair \n",
    "import altair as alt \n",
    "# Import data object from vega_datasets \n",
    "from vega_datasets import data \n",
    "  \n",
    "# Selecting the data \n",
    "iris = data.iris() \n",
    "  \n",
    "# Making the Scatter Plot \n",
    "alt.Chart(iris).mark_point().encode( \n",
    "    # Map the sepalLength to x-axis \n",
    "    x='sepalLength', \n",
    "    # Map the petalLength to y-axis \n",
    "    y='petalLength', \n",
    "    # Map the species to shape \n",
    "    shape='species'\n",
    ") "
   ]
  }
 ],
 "metadata": {
  "language_info": {
   "name": "python"
  }
 },
 "nbformat": 4,
 "nbformat_minor": 2
}
