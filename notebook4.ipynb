{
 "cells": [
  {
   "cell_type": "code",
   "execution_count": null,
   "metadata": {},
   "outputs": [],
   "source": [
    "import matplotlib.pyplot as plt\n",
    "import pandas as pd\n",
    "\n",
    "# Sample data for a line chart\n",
    "source = pd.DataFrame({\n",
    "    'x': [1, 2, 3, 4, 5],\n",
    "    'y': [2, 3, 5, 7, 11]\n",
    "})\n",
    "\n",
    "# Create a simple line chart\n",
    "plt.figure(figsize=(10, 6))\n",
    "plt.plot(source['x'], source['y'], marker='o')\n",
    "plt.title('Simple Line Chart')\n",
    "plt.xlabel('X-axis')\n",
    "plt.ylabel('Y-axis')\n",
    "plt.grid(True)\n",
    "\n",
    "# Display the line chart\n",
    "plt.show()\n",
    "\n",
    "print(\"Line chart created and displayed.\")"
   ]
  }
 ],
 "metadata": {
  "language_info": {
   "name": "python"
  }
 },
 "nbformat": 4,
 "nbformat_minor": 2
}
