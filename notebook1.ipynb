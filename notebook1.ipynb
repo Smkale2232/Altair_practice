{
 "cells": [
  {
   "cell_type": "code",
   "execution_count": null,
   "metadata": {},
   "outputs": [],
   "source": [
    "\n",
    "# Importing altair and pandas library \n",
    "import altair as alt \n",
    "import pandas as pd \n",
    "  \n",
    "# Making a Pandas DataFrame \n",
    "score_data = pd.DataFrame({ \n",
    "    'Website': ['StackOverflow', 'FreeCodeCamp', \n",
    "                'GeeksForGeeks', 'MDN', 'CodeAcademy'], \n",
    "    'Score': [65, 50, 99, 75, 33] \n",
    "}) \n",
    "  \n",
    "# Making the Simple Bar Chart \n",
    "alt.Chart(score_data).mark_bar().encode( \n",
    "    # Mapping the Website column to x-axis \n",
    "    x='Website', \n",
    "    # Mapping the Score column to y-axis \n",
    "    y='Score'\n",
    ")"
   ]
  }
 ],
 "metadata": {
  "language_info": {
   "name": "python"
  }
 },
 "nbformat": 4,
 "nbformat_minor": 2
}
